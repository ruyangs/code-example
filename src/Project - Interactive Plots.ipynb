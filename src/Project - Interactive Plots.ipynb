{
 "cells": [
  {
   "cell_type": "markdown",
   "id": "13fb4ef6",
   "metadata": {},
   "source": [
    "# Final Project"
   ]
  },
  {
   "cell_type": "markdown",
   "id": "177fc3cc",
   "metadata": {},
   "source": [
    "# Ruyang Shao, Ziyue Wang"
   ]
  },
  {
   "cell_type": "code",
   "execution_count": 1,
   "id": "c1f2f885",
   "metadata": {},
   "outputs": [],
   "source": [
    "import os\n",
    "import pandas as pd\n",
    "import numpy as np\n",
    "\n",
    "import datetime\n",
    "import datetime as dt\n",
    "from datetime import datetime\n",
    "\n",
    "import matplotlib.pyplot as plt\n",
    "import geopandas\n",
    "from mpl_toolkits.axes_grid1 import make_axes_locatable\n",
    "import ipywidgets as ipw\n",
    "from ipywidgets import interact, interact_manual\n",
    "import panel as pn\n",
    "from bokeh.plotting import figure, show\n",
    "from bokeh.models.widgets import Panel, Tabs\n",
    "from bokeh.models import Label, SingleIntervalTicker, LinearAxis, DatetimeTickFormatter, BoxAnnotation\n",
    "\n",
    "import statsmodels.api as sm"
   ]
  },
  {
   "cell_type": "code",
   "execution_count": 2,
   "id": "35159897",
   "metadata": {},
   "outputs": [
    {
     "data": {
      "text/html": [
       "\n",
       "    <div class=\"bk-root\">\n",
       "        <a href=\"https://bokeh.org\" target=\"_blank\" class=\"bk-logo bk-logo-small bk-logo-notebook\"></a>\n",
       "        <span id=\"1002\">Loading BokehJS ...</span>\n",
       "    </div>"
      ]
     },
     "metadata": {},
     "output_type": "display_data"
    },
    {
     "data": {
      "application/javascript": [
       "\n",
       "(function(root) {\n",
       "  function now() {\n",
       "    return new Date();\n",
       "  }\n",
       "\n",
       "  var force = true;\n",
       "\n",
       "  if (typeof root._bokeh_onload_callbacks === \"undefined\" || force === true) {\n",
       "    root._bokeh_onload_callbacks = [];\n",
       "    root._bokeh_is_loading = undefined;\n",
       "  }\n",
       "\n",
       "  var JS_MIME_TYPE = 'application/javascript';\n",
       "  var HTML_MIME_TYPE = 'text/html';\n",
       "  var EXEC_MIME_TYPE = 'application/vnd.bokehjs_exec.v0+json';\n",
       "  var CLASS_NAME = 'output_bokeh rendered_html';\n",
       "\n",
       "  /**\n",
       "   * Render data to the DOM node\n",
       "   */\n",
       "  function render(props, node) {\n",
       "    var script = document.createElement(\"script\");\n",
       "    node.appendChild(script);\n",
       "  }\n",
       "\n",
       "  /**\n",
       "   * Handle when an output is cleared or removed\n",
       "   */\n",
       "  function handleClearOutput(event, handle) {\n",
       "    var cell = handle.cell;\n",
       "\n",
       "    var id = cell.output_area._bokeh_element_id;\n",
       "    var server_id = cell.output_area._bokeh_server_id;\n",
       "    // Clean up Bokeh references\n",
       "    if (id != null && id in Bokeh.index) {\n",
       "      Bokeh.index[id].model.document.clear();\n",
       "      delete Bokeh.index[id];\n",
       "    }\n",
       "\n",
       "    if (server_id !== undefined) {\n",
       "      // Clean up Bokeh references\n",
       "      var cmd = \"from bokeh.io.state import curstate; print(curstate().uuid_to_server['\" + server_id + \"'].get_sessions()[0].document.roots[0]._id)\";\n",
       "      cell.notebook.kernel.execute(cmd, {\n",
       "        iopub: {\n",
       "          output: function(msg) {\n",
       "            var id = msg.content.text.trim();\n",
       "            if (id in Bokeh.index) {\n",
       "              Bokeh.index[id].model.document.clear();\n",
       "              delete Bokeh.index[id];\n",
       "            }\n",
       "          }\n",
       "        }\n",
       "      });\n",
       "      // Destroy server and session\n",
       "      var cmd = \"import bokeh.io.notebook as ion; ion.destroy_server('\" + server_id + \"')\";\n",
       "      cell.notebook.kernel.execute(cmd);\n",
       "    }\n",
       "  }\n",
       "\n",
       "  /**\n",
       "   * Handle when a new output is added\n",
       "   */\n",
       "  function handleAddOutput(event, handle) {\n",
       "    var output_area = handle.output_area;\n",
       "    var output = handle.output;\n",
       "\n",
       "    // limit handleAddOutput to display_data with EXEC_MIME_TYPE content only\n",
       "    if ((output.output_type != \"display_data\") || (!Object.prototype.hasOwnProperty.call(output.data, EXEC_MIME_TYPE))) {\n",
       "      return\n",
       "    }\n",
       "\n",
       "    var toinsert = output_area.element.find(\".\" + CLASS_NAME.split(' ')[0]);\n",
       "\n",
       "    if (output.metadata[EXEC_MIME_TYPE][\"id\"] !== undefined) {\n",
       "      toinsert[toinsert.length - 1].firstChild.textContent = output.data[JS_MIME_TYPE];\n",
       "      // store reference to embed id on output_area\n",
       "      output_area._bokeh_element_id = output.metadata[EXEC_MIME_TYPE][\"id\"];\n",
       "    }\n",
       "    if (output.metadata[EXEC_MIME_TYPE][\"server_id\"] !== undefined) {\n",
       "      var bk_div = document.createElement(\"div\");\n",
       "      bk_div.innerHTML = output.data[HTML_MIME_TYPE];\n",
       "      var script_attrs = bk_div.children[0].attributes;\n",
       "      for (var i = 0; i < script_attrs.length; i++) {\n",
       "        toinsert[toinsert.length - 1].firstChild.setAttribute(script_attrs[i].name, script_attrs[i].value);\n",
       "        toinsert[toinsert.length - 1].firstChild.textContent = bk_div.children[0].textContent\n",
       "      }\n",
       "      // store reference to server id on output_area\n",
       "      output_area._bokeh_server_id = output.metadata[EXEC_MIME_TYPE][\"server_id\"];\n",
       "    }\n",
       "  }\n",
       "\n",
       "  function register_renderer(events, OutputArea) {\n",
       "\n",
       "    function append_mime(data, metadata, element) {\n",
       "      // create a DOM node to render to\n",
       "      var toinsert = this.create_output_subarea(\n",
       "        metadata,\n",
       "        CLASS_NAME,\n",
       "        EXEC_MIME_TYPE\n",
       "      );\n",
       "      this.keyboard_manager.register_events(toinsert);\n",
       "      // Render to node\n",
       "      var props = {data: data, metadata: metadata[EXEC_MIME_TYPE]};\n",
       "      render(props, toinsert[toinsert.length - 1]);\n",
       "      element.append(toinsert);\n",
       "      return toinsert\n",
       "    }\n",
       "\n",
       "    /* Handle when an output is cleared or removed */\n",
       "    events.on('clear_output.CodeCell', handleClearOutput);\n",
       "    events.on('delete.Cell', handleClearOutput);\n",
       "\n",
       "    /* Handle when a new output is added */\n",
       "    events.on('output_added.OutputArea', handleAddOutput);\n",
       "\n",
       "    /**\n",
       "     * Register the mime type and append_mime function with output_area\n",
       "     */\n",
       "    OutputArea.prototype.register_mime_type(EXEC_MIME_TYPE, append_mime, {\n",
       "      /* Is output safe? */\n",
       "      safe: true,\n",
       "      /* Index of renderer in `output_area.display_order` */\n",
       "      index: 0\n",
       "    });\n",
       "  }\n",
       "\n",
       "  // register the mime type if in Jupyter Notebook environment and previously unregistered\n",
       "  if (root.Jupyter !== undefined) {\n",
       "    var events = require('base/js/events');\n",
       "    var OutputArea = require('notebook/js/outputarea').OutputArea;\n",
       "\n",
       "    if (OutputArea.prototype.mime_types().indexOf(EXEC_MIME_TYPE) == -1) {\n",
       "      register_renderer(events, OutputArea);\n",
       "    }\n",
       "  }\n",
       "\n",
       "  \n",
       "  if (typeof (root._bokeh_timeout) === \"undefined\" || force === true) {\n",
       "    root._bokeh_timeout = Date.now() + 5000;\n",
       "    root._bokeh_failed_load = false;\n",
       "  }\n",
       "\n",
       "  var NB_LOAD_WARNING = {'data': {'text/html':\n",
       "     \"<div style='background-color: #fdd'>\\n\"+\n",
       "     \"<p>\\n\"+\n",
       "     \"BokehJS does not appear to have successfully loaded. If loading BokehJS from CDN, this \\n\"+\n",
       "     \"may be due to a slow or bad network connection. Possible fixes:\\n\"+\n",
       "     \"</p>\\n\"+\n",
       "     \"<ul>\\n\"+\n",
       "     \"<li>re-rerun `output_notebook()` to attempt to load from CDN again, or</li>\\n\"+\n",
       "     \"<li>use INLINE resources instead, as so:</li>\\n\"+\n",
       "     \"</ul>\\n\"+\n",
       "     \"<code>\\n\"+\n",
       "     \"from bokeh.resources import INLINE\\n\"+\n",
       "     \"output_notebook(resources=INLINE)\\n\"+\n",
       "     \"</code>\\n\"+\n",
       "     \"</div>\"}};\n",
       "\n",
       "  function display_loaded() {\n",
       "    var el = document.getElementById(\"1002\");\n",
       "    if (el != null) {\n",
       "      el.textContent = \"BokehJS is loading...\";\n",
       "    }\n",
       "    if (root.Bokeh !== undefined) {\n",
       "      if (el != null) {\n",
       "        el.textContent = \"BokehJS \" + root.Bokeh.version + \" successfully loaded.\";\n",
       "      }\n",
       "    } else if (Date.now() < root._bokeh_timeout) {\n",
       "      setTimeout(display_loaded, 100)\n",
       "    }\n",
       "  }\n",
       "\n",
       "\n",
       "  function run_callbacks() {\n",
       "    try {\n",
       "      root._bokeh_onload_callbacks.forEach(function(callback) {\n",
       "        if (callback != null)\n",
       "          callback();\n",
       "      });\n",
       "    } finally {\n",
       "      delete root._bokeh_onload_callbacks\n",
       "    }\n",
       "    console.debug(\"Bokeh: all callbacks have finished\");\n",
       "  }\n",
       "\n",
       "  function load_libs(css_urls, js_urls, callback) {\n",
       "    if (css_urls == null) css_urls = [];\n",
       "    if (js_urls == null) js_urls = [];\n",
       "\n",
       "    root._bokeh_onload_callbacks.push(callback);\n",
       "    if (root._bokeh_is_loading > 0) {\n",
       "      console.debug(\"Bokeh: BokehJS is being loaded, scheduling callback at\", now());\n",
       "      return null;\n",
       "    }\n",
       "    if (js_urls == null || js_urls.length === 0) {\n",
       "      run_callbacks();\n",
       "      return null;\n",
       "    }\n",
       "    console.debug(\"Bokeh: BokehJS not loaded, scheduling load and callback at\", now());\n",
       "    root._bokeh_is_loading = css_urls.length + js_urls.length;\n",
       "\n",
       "    function on_load() {\n",
       "      root._bokeh_is_loading--;\n",
       "      if (root._bokeh_is_loading === 0) {\n",
       "        console.debug(\"Bokeh: all BokehJS libraries/stylesheets loaded\");\n",
       "        run_callbacks()\n",
       "      }\n",
       "    }\n",
       "\n",
       "    function on_error(url) {\n",
       "      console.error(\"failed to load \" + url);\n",
       "    }\n",
       "\n",
       "    for (let i = 0; i < css_urls.length; i++) {\n",
       "      const url = css_urls[i];\n",
       "      const element = document.createElement(\"link\");\n",
       "      element.onload = on_load;\n",
       "      element.onerror = on_error.bind(null, url);\n",
       "      element.rel = \"stylesheet\";\n",
       "      element.type = \"text/css\";\n",
       "      element.href = url;\n",
       "      console.debug(\"Bokeh: injecting link tag for BokehJS stylesheet: \", url);\n",
       "      document.body.appendChild(element);\n",
       "    }\n",
       "\n",
       "    const hashes = {\"https://cdn.bokeh.org/bokeh/release/bokeh-2.3.3.min.js\": \"dM3QQsP+wXdHg42wTqW85BjZQdLNNIXqlPw/BgKoExPmTG7ZLML4EGqLMfqHT6ON\", \"https://cdn.bokeh.org/bokeh/release/bokeh-tables-2.3.3.min.js\": \"8x57I4YuIfu8XyZfFo0XVr2WAT8EK4rh/uDe3wF7YuW2FNUSNEpJbsPaB1nJ2fz2\", \"https://cdn.bokeh.org/bokeh/release/bokeh-widgets-2.3.3.min.js\": \"3QTqdz9LyAm2i0sG5XTePsHec3UHWwVsrOL68SYRoAXsafvfAyqtQ+h440+qIBhS\"};\n",
       "\n",
       "    for (let i = 0; i < js_urls.length; i++) {\n",
       "      const url = js_urls[i];\n",
       "      const element = document.createElement('script');\n",
       "      element.onload = on_load;\n",
       "      element.onerror = on_error.bind(null, url);\n",
       "      element.async = false;\n",
       "      element.src = url;\n",
       "      if (url in hashes) {\n",
       "        element.crossOrigin = \"anonymous\";\n",
       "        element.integrity = \"sha384-\" + hashes[url];\n",
       "      }\n",
       "      console.debug(\"Bokeh: injecting script tag for BokehJS library: \", url);\n",
       "      document.head.appendChild(element);\n",
       "    }\n",
       "  };\n",
       "\n",
       "  function inject_raw_css(css) {\n",
       "    const element = document.createElement(\"style\");\n",
       "    element.appendChild(document.createTextNode(css));\n",
       "    document.body.appendChild(element);\n",
       "  }\n",
       "\n",
       "  \n",
       "  var js_urls = [\"https://cdn.bokeh.org/bokeh/release/bokeh-2.3.3.min.js\", \"https://cdn.bokeh.org/bokeh/release/bokeh-widgets-2.3.3.min.js\", \"https://cdn.bokeh.org/bokeh/release/bokeh-tables-2.3.3.min.js\", \"https://unpkg.com/@holoviz/panel@0.12.1/dist/panel.min.js\"];\n",
       "  var css_urls = [];\n",
       "  \n",
       "\n",
       "  var inline_js = [\n",
       "    function(Bokeh) {\n",
       "      Bokeh.set_log_level(\"info\");\n",
       "    },\n",
       "    function(Bokeh) {\n",
       "    \n",
       "    \n",
       "    }\n",
       "  ];\n",
       "\n",
       "  function run_inline_js() {\n",
       "    \n",
       "    if (root.Bokeh !== undefined || force === true) {\n",
       "      \n",
       "    for (var i = 0; i < inline_js.length; i++) {\n",
       "      inline_js[i].call(root, root.Bokeh);\n",
       "    }\n",
       "    if (force === true) {\n",
       "        display_loaded();\n",
       "      }} else if (Date.now() < root._bokeh_timeout) {\n",
       "      setTimeout(run_inline_js, 100);\n",
       "    } else if (!root._bokeh_failed_load) {\n",
       "      console.log(\"Bokeh: BokehJS failed to load within specified timeout.\");\n",
       "      root._bokeh_failed_load = true;\n",
       "    } else if (force !== true) {\n",
       "      var cell = $(document.getElementById(\"1002\")).parents('.cell').data().cell;\n",
       "      cell.output_area.append_execute_result(NB_LOAD_WARNING)\n",
       "    }\n",
       "\n",
       "  }\n",
       "\n",
       "  if (root._bokeh_is_loading === 0) {\n",
       "    console.debug(\"Bokeh: BokehJS loaded, going straight to plotting\");\n",
       "    run_inline_js();\n",
       "  } else {\n",
       "    load_libs(css_urls, js_urls, function() {\n",
       "      console.debug(\"Bokeh: BokehJS plotting callback run at\", now());\n",
       "      run_inline_js();\n",
       "    });\n",
       "  }\n",
       "}(window));"
      ],
      "application/vnd.bokehjs_load.v0+json": "\n(function(root) {\n  function now() {\n    return new Date();\n  }\n\n  var force = true;\n\n  if (typeof root._bokeh_onload_callbacks === \"undefined\" || force === true) {\n    root._bokeh_onload_callbacks = [];\n    root._bokeh_is_loading = undefined;\n  }\n\n  \n\n  \n  if (typeof (root._bokeh_timeout) === \"undefined\" || force === true) {\n    root._bokeh_timeout = Date.now() + 5000;\n    root._bokeh_failed_load = false;\n  }\n\n  var NB_LOAD_WARNING = {'data': {'text/html':\n     \"<div style='background-color: #fdd'>\\n\"+\n     \"<p>\\n\"+\n     \"BokehJS does not appear to have successfully loaded. If loading BokehJS from CDN, this \\n\"+\n     \"may be due to a slow or bad network connection. Possible fixes:\\n\"+\n     \"</p>\\n\"+\n     \"<ul>\\n\"+\n     \"<li>re-rerun `output_notebook()` to attempt to load from CDN again, or</li>\\n\"+\n     \"<li>use INLINE resources instead, as so:</li>\\n\"+\n     \"</ul>\\n\"+\n     \"<code>\\n\"+\n     \"from bokeh.resources import INLINE\\n\"+\n     \"output_notebook(resources=INLINE)\\n\"+\n     \"</code>\\n\"+\n     \"</div>\"}};\n\n  function display_loaded() {\n    var el = document.getElementById(\"1002\");\n    if (el != null) {\n      el.textContent = \"BokehJS is loading...\";\n    }\n    if (root.Bokeh !== undefined) {\n      if (el != null) {\n        el.textContent = \"BokehJS \" + root.Bokeh.version + \" successfully loaded.\";\n      }\n    } else if (Date.now() < root._bokeh_timeout) {\n      setTimeout(display_loaded, 100)\n    }\n  }\n\n\n  function run_callbacks() {\n    try {\n      root._bokeh_onload_callbacks.forEach(function(callback) {\n        if (callback != null)\n          callback();\n      });\n    } finally {\n      delete root._bokeh_onload_callbacks\n    }\n    console.debug(\"Bokeh: all callbacks have finished\");\n  }\n\n  function load_libs(css_urls, js_urls, callback) {\n    if (css_urls == null) css_urls = [];\n    if (js_urls == null) js_urls = [];\n\n    root._bokeh_onload_callbacks.push(callback);\n    if (root._bokeh_is_loading > 0) {\n      console.debug(\"Bokeh: BokehJS is being loaded, scheduling callback at\", now());\n      return null;\n    }\n    if (js_urls == null || js_urls.length === 0) {\n      run_callbacks();\n      return null;\n    }\n    console.debug(\"Bokeh: BokehJS not loaded, scheduling load and callback at\", now());\n    root._bokeh_is_loading = css_urls.length + js_urls.length;\n\n    function on_load() {\n      root._bokeh_is_loading--;\n      if (root._bokeh_is_loading === 0) {\n        console.debug(\"Bokeh: all BokehJS libraries/stylesheets loaded\");\n        run_callbacks()\n      }\n    }\n\n    function on_error(url) {\n      console.error(\"failed to load \" + url);\n    }\n\n    for (let i = 0; i < css_urls.length; i++) {\n      const url = css_urls[i];\n      const element = document.createElement(\"link\");\n      element.onload = on_load;\n      element.onerror = on_error.bind(null, url);\n      element.rel = \"stylesheet\";\n      element.type = \"text/css\";\n      element.href = url;\n      console.debug(\"Bokeh: injecting link tag for BokehJS stylesheet: \", url);\n      document.body.appendChild(element);\n    }\n\n    const hashes = {\"https://cdn.bokeh.org/bokeh/release/bokeh-2.3.3.min.js\": \"dM3QQsP+wXdHg42wTqW85BjZQdLNNIXqlPw/BgKoExPmTG7ZLML4EGqLMfqHT6ON\", \"https://cdn.bokeh.org/bokeh/release/bokeh-tables-2.3.3.min.js\": \"8x57I4YuIfu8XyZfFo0XVr2WAT8EK4rh/uDe3wF7YuW2FNUSNEpJbsPaB1nJ2fz2\", \"https://cdn.bokeh.org/bokeh/release/bokeh-widgets-2.3.3.min.js\": \"3QTqdz9LyAm2i0sG5XTePsHec3UHWwVsrOL68SYRoAXsafvfAyqtQ+h440+qIBhS\"};\n\n    for (let i = 0; i < js_urls.length; i++) {\n      const url = js_urls[i];\n      const element = document.createElement('script');\n      element.onload = on_load;\n      element.onerror = on_error.bind(null, url);\n      element.async = false;\n      element.src = url;\n      if (url in hashes) {\n        element.crossOrigin = \"anonymous\";\n        element.integrity = \"sha384-\" + hashes[url];\n      }\n      console.debug(\"Bokeh: injecting script tag for BokehJS library: \", url);\n      document.head.appendChild(element);\n    }\n  };\n\n  function inject_raw_css(css) {\n    const element = document.createElement(\"style\");\n    element.appendChild(document.createTextNode(css));\n    document.body.appendChild(element);\n  }\n\n  \n  var js_urls = [\"https://cdn.bokeh.org/bokeh/release/bokeh-2.3.3.min.js\", \"https://cdn.bokeh.org/bokeh/release/bokeh-widgets-2.3.3.min.js\", \"https://cdn.bokeh.org/bokeh/release/bokeh-tables-2.3.3.min.js\", \"https://unpkg.com/@holoviz/panel@0.12.1/dist/panel.min.js\"];\n  var css_urls = [];\n  \n\n  var inline_js = [\n    function(Bokeh) {\n      Bokeh.set_log_level(\"info\");\n    },\n    function(Bokeh) {\n    \n    \n    }\n  ];\n\n  function run_inline_js() {\n    \n    if (root.Bokeh !== undefined || force === true) {\n      \n    for (var i = 0; i < inline_js.length; i++) {\n      inline_js[i].call(root, root.Bokeh);\n    }\n    if (force === true) {\n        display_loaded();\n      }} else if (Date.now() < root._bokeh_timeout) {\n      setTimeout(run_inline_js, 100);\n    } else if (!root._bokeh_failed_load) {\n      console.log(\"Bokeh: BokehJS failed to load within specified timeout.\");\n      root._bokeh_failed_load = true;\n    } else if (force !== true) {\n      var cell = $(document.getElementById(\"1002\")).parents('.cell').data().cell;\n      cell.output_area.append_execute_result(NB_LOAD_WARNING)\n    }\n\n  }\n\n  if (root._bokeh_is_loading === 0) {\n    console.debug(\"Bokeh: BokehJS loaded, going straight to plotting\");\n    run_inline_js();\n  } else {\n    load_libs(css_urls, js_urls, function() {\n      console.debug(\"Bokeh: BokehJS plotting callback run at\", now());\n      run_inline_js();\n    });\n  }\n}(window));"
     },
     "metadata": {},
     "output_type": "display_data"
    }
   ],
   "source": [
    "from bokeh.io import output_notebook\n",
    "output_notebook()"
   ]
  },
  {
   "cell_type": "code",
   "execution_count": 3,
   "id": "afd4a410",
   "metadata": {},
   "outputs": [],
   "source": [
    "path = os.path.join(os.getcwd(), '../data')"
   ]
  },
  {
   "cell_type": "markdown",
   "id": "6cbaca4a",
   "metadata": {},
   "source": [
    "# Read datasets"
   ]
  },
  {
   "cell_type": "code",
   "execution_count": 4,
   "id": "55c12289",
   "metadata": {},
   "outputs": [],
   "source": [
    "df_us = pd.read_csv(os.path.join(path, 'regression_us.csv'))\n",
    "geodata = geopandas.read_file(os.path.join(path, 'geodata/geodata.shp'))\n",
    "df_ordertime = pd.read_csv(os.path.join(path, 'df_ordertime.csv'))\n",
    "df_cases = pd.read_csv(os.path.join(path, 'df_cases.csv'))\n",
    "df_mobility = pd.read_csv(os.path.join(path, 'df_mobility.csv'))\n",
    "df_statelink = pd.read_csv(os.path.join(path, 'df_statelink.csv'))\n",
    "df_unemployment = pd.read_csv(os.path.join(path, 'df_unemployment.csv')).set_index('Period')\n",
    "geo_mobility = pd.read_csv(os.path.join(path, 'geo_mobility.csv'))"
   ]
  },
  {
   "cell_type": "code",
   "execution_count": 5,
   "id": "2c95638d",
   "metadata": {},
   "outputs": [],
   "source": [
    "def get_geodata_cases():\n",
    "    geodata_cases = pd.merge(geodata, df_cases, on='NAME', how='left')\n",
    "    geodata_cases = geodata_cases[~geodata_cases['submission_date'].isna()]\n",
    "    geodata_cases = geodata_cases.sort_values('submission_date', axis=0, ascending=True)\n",
    "    return geodata_cases\n",
    "\n",
    "geodata_cases = get_geodata_cases()\n",
    "\n",
    "def get_geoplot1_data():\n",
    "    geodata_cases_mobility = pd.merge(geodata_cases,geo_mobility,on=['NAME','submission_date'], how='left')\n",
    "    geodata_cases_mobility = geodata_cases_mobility.rename(columns=\n",
    "                                                           {'avg_mobility':'Mobility Change Rate in Public Places',\n",
    "                                                           'new_case':'New Cases'})\n",
    "    return geodata_cases_mobility\n",
    "\n",
    "geodata_cases_mobility = get_geoplot1_data()\n",
    "\n",
    "def get_geoplot2_data():\n",
    "    df_employees_industry = pd.read_csv(os.path.join(path, 'employees_by_industry.csv'))\n",
    "    ## employees change rate by industry\n",
    "    df_employees_industry = df_employees_industry.set_index(['State', 'Month'])\n",
    "    df_employees_industry = df_employees_industry.pct_change().reset_index()\n",
    "    df_employees_industry = df_employees_industry[df_employees_industry['Month'] != 'Jan']\n",
    "    # merge into geodata\n",
    "    geodata_industry = df_employees_industry.rename(columns={'State':'NAME'})\n",
    "    geo_industry = pd.merge(geodata,geodata_industry, on=['NAME'], how='left')\n",
    "\n",
    "    return geo_industry\n",
    "\n",
    "geo_industry = get_geoplot2_data()"
   ]
  },
  {
   "cell_type": "markdown",
   "id": "3da9b34a",
   "metadata": {},
   "source": [
    "# Regression result"
   ]
  },
  {
   "cell_type": "code",
   "execution_count": 6,
   "id": "228d89ae",
   "metadata": {},
   "outputs": [
    {
     "name": "stdout",
     "output_type": "stream",
     "text": [
      "                            OLS Regression Results                            \n",
      "==============================================================================\n",
      "Dep. Variable:                  unemp   R-squared:                       0.930\n",
      "Model:                            OLS   Adj. R-squared:                  0.928\n",
      "Method:                 Least Squares   F-statistic:                     638.2\n",
      "Date:                Wed, 08 Dec 2021   Prob (F-statistic):          3.39e-190\n",
      "Time:                        12:38:25   Log-Likelihood:                -453.08\n",
      "No. Observations:                 345   AIC:                             922.2\n",
      "Df Residuals:                     337   BIC:                             952.9\n",
      "Df Model:                           7                                         \n",
      "Covariance Type:            nonrobust                                         \n",
      "==============================================================================\n",
      "                 coef    std err          t      P>|t|      [0.025      0.975]\n",
      "------------------------------------------------------------------------------\n",
      "const         81.8267      2.734     29.928      0.000      76.449      87.205\n",
      "10000cases     0.0444      0.009      4.705      0.000       0.026       0.063\n",
      "gdp           -0.0004   1.25e-05    -29.053      0.000      -0.000      -0.000\n",
      "order          0.4662      0.250      1.863      0.063      -0.026       0.958\n",
      "summer        -0.1741      0.929     -0.187      0.851      -2.002       1.654\n",
      "spring         0.2666      0.918      0.291      0.772      -1.539       2.072\n",
      "fall          -1.0983      0.932     -1.179      0.239      -2.931       0.735\n",
      "winter        -1.6829      0.935     -1.799      0.073      -3.523       0.157\n",
      "==============================================================================\n",
      "Omnibus:                        0.878   Durbin-Watson:                   0.110\n",
      "Prob(Omnibus):                  0.645   Jarque-Bera (JB):                0.699\n",
      "Skew:                           0.101   Prob(JB):                        0.705\n",
      "Kurtosis:                       3.088   Cond. No.                     1.17e+07\n",
      "==============================================================================\n",
      "\n",
      "Notes:\n",
      "[1] Standard Errors assume that the covariance matrix of the errors is correctly specified.\n",
      "[2] The condition number is large, 1.17e+07. This might indicate that there are\n",
      "strong multicollinearity or other numerical problems.\n"
     ]
    }
   ],
   "source": [
    "# regression results\n",
    "def regression_model():\n",
    "    X = df_us[[\"10000cases\", \"gdp\", \"order\", \"summer\", \"spring\", \"fall\", \"winter\"]]\n",
    "    y = df_us[[\"unemp\"]]\n",
    "\n",
    "    ### add intercept\n",
    "    X = sm.add_constant(X)\n",
    "\n",
    "    # model\n",
    "    model = sm.OLS(y.astype(float), X.astype(float)).fit()\n",
    "    # result\n",
    "    print(model.summary())\n",
    "\n",
    "\n",
    "regression_model()"
   ]
  },
  {
   "cell_type": "markdown",
   "id": "cf0c51c1",
   "metadata": {},
   "source": [
    "# Lineplot"
   ]
  },
  {
   "cell_type": "markdown",
   "id": "3d43e1f0",
   "metadata": {},
   "source": [
    "Finished by Ruyang Shao"
   ]
  },
  {
   "cell_type": "code",
   "execution_count": 7,
   "id": "78354e21",
   "metadata": {},
   "outputs": [],
   "source": [
    "date = geodata_cases_mobility['submission_date'].unique().tolist()\n",
    "date = [x for x in date if str(x) != 'nan']\n",
    "date.sort()"
   ]
  },
  {
   "cell_type": "code",
   "execution_count": 8,
   "id": "9d991229",
   "metadata": {},
   "outputs": [],
   "source": [
    "def getTime(region):\n",
    "    if region == 'United States':\n",
    "        start_time = min(list(pd.to_datetime(df_ordertime['start'])))\n",
    "        end_time = max(list(pd.to_datetime(df_ordertime['end'])))\n",
    "    else:\n",
    "        start_time = pd.to_datetime(df_ordertime[df_ordertime['State'] == region]['start']).iloc[0]\n",
    "        end_time = pd.to_datetime(df_ordertime[df_ordertime['State'] == region]['end']).iloc[0]\n",
    "    return start_time, end_time"
   ]
  },
  {
   "cell_type": "code",
   "execution_count": 9,
   "id": "905957f4",
   "metadata": {},
   "outputs": [],
   "source": [
    "def plot_unemployment(region):\n",
    "    factors = list(df_unemployment.index)\n",
    "\n",
    "    plot_line = figure(x_range=factors, title=region, x_axis_label='Date', y_axis_label='Unemployment Rate', plot_height=300)\n",
    "    plot_line.line(factors, df_unemployment[region].astype(float))\n",
    "    \n",
    "    if region in list(df_ordertime['State']) or region == 'United States':\n",
    "        start_time, end_time = getTime(region)\n",
    "        left_box = BoxAnnotation(right=start_time.month, fill_alpha=0.2, fill_color='#0072B2')\n",
    "        mid_box = BoxAnnotation(left=start_time.month, right=end_time.month, fill_alpha=0.2, fill_color='#D55E00')\n",
    "        right_box = BoxAnnotation(left=end_time.month, fill_alpha=0.2, fill_color='#0072B2')\n",
    "\n",
    "        plot_line.add_layout(left_box)\n",
    "        plot_line.add_layout(mid_box)\n",
    "        plot_line.add_layout(right_box)\n",
    "\n",
    "        plot_line.xgrid[0].grid_line_color=None\n",
    "        plot_line.ygrid[0].grid_line_alpha=0.5\n",
    "    \n",
    "    line_panel = Panel(child=plot_line, title='Unemployment Rate')\n",
    "    return line_panel"
   ]
  },
  {
   "cell_type": "code",
   "execution_count": 10,
   "id": "6e6be94a",
   "metadata": {},
   "outputs": [],
   "source": [
    "def plot_ordertime(start_time, end_time, plot_line):\n",
    "    left_box = BoxAnnotation(right=start_time, fill_alpha=0.2, fill_color='#0072B2')\n",
    "    mid_box = BoxAnnotation(left=start_time, right=end_time, fill_alpha=0.2, fill_color='#D55E00')\n",
    "    right_box = BoxAnnotation(left=end_time, fill_alpha=0.2, fill_color='#0072B2')\n",
    "\n",
    "    plot_line.add_layout(left_box)\n",
    "    plot_line.add_layout(mid_box)\n",
    "    plot_line.add_layout(right_box)\n",
    "\n",
    "    plot_line.xgrid[0].grid_line_color=None\n",
    "    plot_line.ygrid[0].grid_line_alpha=0.5\n",
    "    return plot_line"
   ]
  },
  {
   "cell_type": "code",
   "execution_count": 11,
   "id": "7c9bc8af",
   "metadata": {},
   "outputs": [],
   "source": [
    "def plot_newcases(region):\n",
    "    df = df_cases[df_cases['NAME'] == region].sort_values(by='submission_date')\n",
    "    df['submission_date'] = pd.to_datetime(df['submission_date'])\n",
    "    plot_line = figure(title=region, x_axis_label='Date', y_axis_label='New Cases', plot_height=300, x_axis_type='datetime')\n",
    "    plot_line.line(df['submission_date'], df['new_case'])\n",
    "    plot_line.xaxis.formatter = DatetimeTickFormatter(days=[\"%m/%d/%Y\"], months=[\"%m/%d/%Y\"], hours=[\"%m/%d/%Y\"], minutes=[\"%m/%d/%Y\"])\n",
    "    if region in list(df_ordertime['State']) or region == 'United States':\n",
    "        start_time, end_time = getTime(region)\n",
    "        plot_ordertime(start_time, end_time, plot_line)\n",
    "\n",
    "    line_panel = Panel(child=plot_line, title='New Cases')\n",
    "    return line_panel"
   ]
  },
  {
   "cell_type": "code",
   "execution_count": 12,
   "id": "867ad507",
   "metadata": {},
   "outputs": [],
   "source": [
    "def plot_mobility(region):\n",
    "    if region == 'United States':\n",
    "        df = df_mobility[df_mobility['sub_region_1'].isna()].sort_values(by='date')\n",
    "    else:\n",
    "        df = df_mobility[df_mobility['sub_region_1'] == region].sort_values(by='date')\n",
    "    df['date'] = pd.to_datetime(df['date'])\n",
    "    plot_line = figure(title=region, x_axis_label='Date', y_axis_label='Change Rate', plot_height=300, x_axis_type='datetime')\n",
    "    plot_line.line(df['date'], df['workplaces_percent_change_from_baseline'])\n",
    "    plot_line.xaxis.formatter = DatetimeTickFormatter(days=[\"%m/%d/%Y\"], months=[\"%m/%d/%Y\"], hours=[\"%m/%d/%Y\"], minutes=[\"%m/%d/%Y\"])\n",
    "    \n",
    "    if region in list(df_ordertime['State']) or region == 'United States':\n",
    "        start_time, end_time = getTime(region)\n",
    "        plot_ordertime(start_time, end_time, plot_line)\n",
    "    \n",
    "    line_panel = Panel(child=plot_line, title='Mobility Change in Workplaces')\n",
    "    return line_panel"
   ]
  },
  {
   "cell_type": "code",
   "execution_count": 13,
   "id": "3b9f2b2b",
   "metadata": {},
   "outputs": [],
   "source": [
    "def plot_state(region):\n",
    "    line_panel_1 = plot_newcases(region)\n",
    "    line_panel_2 = plot_mobility(region)\n",
    "    line_panel_3 = plot_unemployment(region)\n",
    "    tabs = Tabs(tabs=[line_panel_1,line_panel_2,line_panel_3])\n",
    "    return tabs"
   ]
  },
  {
   "cell_type": "code",
   "execution_count": 14,
   "id": "45feed0b",
   "metadata": {},
   "outputs": [
    {
     "data": {
      "application/vnd.jupyter.widget-view+json": {
       "model_id": "4128ffa265c3478cb30e0b98d487dfbe",
       "version_major": 2,
       "version_minor": 0
      },
      "text/plain": [
       "interactive(children=(Dropdown(description='Region', options=('United States', 'Alabama', 'Alaska', 'Arizona',…"
      ]
     },
     "metadata": {},
     "output_type": "display_data"
    }
   ],
   "source": [
    "regions = ['United States'] + df_statelink['State'].tolist()\n",
    "@interact(Region=regions)\n",
    "def drop(Region=regions[0]):\n",
    "    tabs = plot_state(Region)\n",
    "    show(tabs)"
   ]
  },
  {
   "cell_type": "markdown",
   "id": "1a57c48a",
   "metadata": {},
   "source": [
    "#### Note: The highlighted areas show the periods of the Stay-at-home Order. Some regions (e.g. Arkansas) didn't execute the Order or have insufficient info, so the hightlight areas are not shown."
   ]
  },
  {
   "cell_type": "markdown",
   "id": "9a5b3d73",
   "metadata": {},
   "source": [
    "# Geoplot1: Spatial difference of new cases and mobility"
   ]
  },
  {
   "cell_type": "markdown",
   "id": "a2212bec",
   "metadata": {},
   "source": [
    "Finished by Ziyue Wang"
   ]
  },
  {
   "cell_type": "code",
   "execution_count": 15,
   "id": "480922a6",
   "metadata": {},
   "outputs": [],
   "source": [
    "#create time slider\n",
    "time_slider = ipw.SelectionSlider(\n",
    "    options= geodata_cases_mobility['submission_date'].unique().tolist(),\n",
    "    value='01/22/2020',\n",
    "    description='Date',\n",
    "    disabled=False,\n",
    "    continuous_update=False,\n",
    "    orientation='horizontal',\n",
    "    readout=True\n",
    ")"
   ]
  },
  {
   "cell_type": "code",
   "execution_count": 16,
   "id": "5ffa474c",
   "metadata": {},
   "outputs": [
    {
     "data": {
      "application/vnd.jupyter.widget-view+json": {
       "model_id": "e091976431764c608546904f076b212b",
       "version_major": 2,
       "version_minor": 0
      },
      "text/plain": [
       "interactive(children=(Dropdown(description='Indicator', options=('New Cases', 'Mobility Change Rate in Public …"
      ]
     },
     "metadata": {},
     "output_type": "display_data"
    }
   ],
   "source": [
    "@interact(\n",
    "    Indicator=['New Cases', 'Mobility Change Rate in Public Places'],\n",
    "    Date=time_slider\n",
    ")\n",
    "\n",
    "def plot(Indicator='new_case', Date='01/22/2020'):\n",
    "        \n",
    "    df = geodata_cases_mobility[geodata_cases_mobility['submission_date'] == Date]   \n",
    "    fig, ax = plt.subplots(figsize=(16,16))\n",
    "    divider = make_axes_locatable(ax)\n",
    "    cax = divider.append_axes('right', size='5%', pad=0.1)\n",
    "\n",
    "    ax = df.plot(ax=ax, column=Indicator, cmap=plt.cm.Greens, legend=True, cax=cax)\n",
    "\n",
    "    ax.axis('off')\n",
    "    ax.set_title('{} in {}'.format(Indicator,Date))"
   ]
  },
  {
   "cell_type": "markdown",
   "id": "a72e9b85",
   "metadata": {},
   "source": [
    "#### Note: Some time periods (e.g. 1/22/2020) does not have information of mobility change rate, so the geoplots of mobility change rate in such time are not shown."
   ]
  },
  {
   "cell_type": "markdown",
   "id": "f49953bd",
   "metadata": {},
   "source": [
    "# Geoplot2: Spatial difference of employees by industry"
   ]
  },
  {
   "cell_type": "markdown",
   "id": "6a1e3c0f",
   "metadata": {},
   "source": [
    "Finished by Ziyue Wang"
   ]
  },
  {
   "cell_type": "code",
   "execution_count": 17,
   "id": "3d33cdbb",
   "metadata": {},
   "outputs": [],
   "source": [
    "#create month slider\n",
    "month_slider = ipw.SelectionSlider(\n",
    "    options= geo_industry['Month'].unique().tolist(),\n",
    "    value='Feb',\n",
    "    description='Month',\n",
    "    disabled=False,\n",
    "    continuous_update=False,\n",
    "    orientation='horizontal',\n",
    "    readout=True\n",
    ")\n",
    "\n",
    "industry_names = geo_industry.columns[3:14].tolist()"
   ]
  },
  {
   "cell_type": "code",
   "execution_count": 18,
   "id": "cea97fe9",
   "metadata": {},
   "outputs": [],
   "source": [
    "#create industry buttons\n",
    "industry_buttons = ipw.RadioButtons(\n",
    "    options=geo_industry.columns[3:14].tolist(),\n",
    "    value='Total Nonfarm', \n",
    "    layout={'width':'max-content'}, \n",
    "    description='Industry:',\n",
    "    disabled=False\n",
    ")"
   ]
  },
  {
   "cell_type": "code",
   "execution_count": 19,
   "id": "b3bb94b1",
   "metadata": {},
   "outputs": [
    {
     "data": {
      "application/vnd.jupyter.widget-view+json": {
       "model_id": "ef2cb20fc4c0469b89eb02ed7aef9009",
       "version_major": 2,
       "version_minor": 0
      },
      "text/plain": [
       "interactive(children=(SelectionSlider(continuous_update=False, description='Month', options=('Feb', 'Mar', 'Ap…"
      ]
     },
     "metadata": {},
     "output_type": "display_data"
    }
   ],
   "source": [
    "@interact(month=month_slider, industry=industry_buttons)\n",
    "\n",
    "def plot(month='Feb', industry='Total Nonfarm'):\n",
    "        \n",
    "        df=geo_industry[geo_industry['Month'] == month]   \n",
    "        fig, ax=plt.subplots(figsize=(16,16))\n",
    "        divider=make_axes_locatable(ax)\n",
    "        cax=divider.append_axes('right', size='5%', pad=0.1)\n",
    "\n",
    "        ax = df.plot(ax=ax, column=industry, cmap=plt.cm.OrRd_r, legend=True, cax=cax)\n",
    "        \n",
    "        ax.axis('off')\n",
    "        ax.set_title('Employees Change Rate in {} in {} 2020'.format(industry, month))"
   ]
  },
  {
   "cell_type": "code",
   "execution_count": null,
   "id": "7104dbd0",
   "metadata": {},
   "outputs": [],
   "source": []
  }
 ],
 "metadata": {
  "kernelspec": {
   "display_name": "Python 3 (ipykernel)",
   "language": "python",
   "name": "python3"
  },
  "language_info": {
   "codemirror_mode": {
    "name": "ipython",
    "version": 3
   },
   "file_extension": ".py",
   "mimetype": "text/x-python",
   "name": "python",
   "nbconvert_exporter": "python",
   "pygments_lexer": "ipython3",
   "version": "3.9.7"
  }
 },
 "nbformat": 4,
 "nbformat_minor": 5
}
